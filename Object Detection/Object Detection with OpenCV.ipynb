{
 "cells": [
  {
   "cell_type": "code",
   "execution_count": 1,
   "metadata": {
    "collapsed": false
   },
   "outputs": [],
   "source": [
    "import cv2\n",
    "import matplotlib.pyplot as plt\n",
    "import numpy as np\n",
    "from math import cos, sin\n",
    "from __future__ import division"
   ]
  },
  {
   "cell_type": "code",
   "execution_count": 2,
   "metadata": {
    "collapsed": true
   },
   "outputs": [],
   "source": [
    "green = (0, 255, 0)"
   ]
  },
  {
   "cell_type": "code",
   "execution_count": 3,
   "metadata": {
    "collapsed": true
   },
   "outputs": [],
   "source": [
    "def show(image):\n",
    "    # figure size in inches\n",
    "    plt.figure(figsize=(10, 10))\n",
    "    plt.imshow(image, interpolation='nearest')"
   ]
  },
  {
   "cell_type": "code",
   "execution_count": 4,
   "metadata": {
    "collapsed": true
   },
   "outputs": [],
   "source": [
    "def overlay_mask(mask, image):\n",
    "    # mask the mask rgb\n",
    "    rgb_mask = cv2.cvtColor(mask, cv2.COLOR_GRAY2RGB)\n",
    "    img = cv2.addWeighted(rgb_mask, 0.5, image, 0.5, 0)\n",
    "    return img"
   ]
  },
  {
   "cell_type": "code",
   "execution_count": 5,
   "metadata": {
    "collapsed": true
   },
   "outputs": [],
   "source": [
    "def find_biggest_contour(image):\n",
    "    # copy image\n",
    "    image = image.copy()\n",
    "    contours, hierarchy = cv2.findContours(image, cv2.RETR_LIST,\n",
    "                                         cv2.CHAIN_APPROX_SIMPLE)\n",
    "    \n",
    "    contour_sizes = [(cv2.contourArea(contour), contour) for contour in contours]\n",
    "    \n",
    "    biggest_contour = max(contour_sizes, key=lambda x: x[0])[1]\n",
    "    \n",
    "    # return the biggest contour \n",
    "    mask = np.zeros(image.shape, np.uint8)\n",
    "    cv2.drawContours(mask, [biggest_contour], -1, 255, -1)\n",
    "    return biggest_contour, mask"
   ]
  },
  {
   "cell_type": "code",
   "execution_count": 6,
   "metadata": {
    "collapsed": true
   },
   "outputs": [],
   "source": [
    "def circle_contour(image, contour):\n",
    "    #  bounding ellipse\n",
    "    image_with_ellipse = image.copy()\n",
    "    ellipse = cv2.fitEllipse(contour)\n",
    "    \n",
    "    # add it\n",
    "    cv2.ellipse(image_with_ellipse, ellipse, green, 2 , cv2.CV_AA)\n",
    "    return image_with_ellipse"
   ]
  },
  {
   "cell_type": "code",
   "execution_count": 7,
   "metadata": {
    "collapsed": true
   },
   "outputs": [],
   "source": [
    "def find_strawberry(image):\n",
    "    \n",
    "    # Convert to the correct color scheme\n",
    "    image = cv2.cvtColor(image, cv2.COLOR_BGR2RGB)\n",
    "    \n",
    "    # Rescale the image properly\n",
    "    max_dimension = max(image.shape)\n",
    "    scale = 700 / max_dimension\n",
    "    image = cv2.resize(image, None, fx=scale, fy=scale)\n",
    "    \n",
    "    # Clean our image\n",
    "    image_blur = cv2.GaussianBlur(image, (7,7), 0)\n",
    "    image_blur_hsv = cv2.cvtColor(image_blur, cv2.COLOR_RGB2HSV)\n",
    "    \n",
    "    # define filters \n",
    "    # filter by the color\n",
    "    \n",
    "    min_red = np.array([0, 100, 80])\n",
    "    max_red = np.array([10, 256, 256])\n",
    "    \n",
    "    mask1 = cv2.inRange(image_blur_hsv, min_red, max_red)\n",
    "    \n",
    "    # filter by brightness\n",
    "    min_red2 = np.array([170, 100, 80])\n",
    "    max_red2 = np.array([180, 256, 256])\n",
    "    \n",
    "    mask2 = cv2.inRange(image_blur_hsv, min_red2, max_red2)\n",
    "    \n",
    "    \n",
    "    # take these two masks and combine them\n",
    "    mask = mask1 + mask2\n",
    "    \n",
    "    # Segmentation\n",
    "    kernel = cv2.getStructuringElement(cv2.MORPH_ELLIPSE, (15,15))\n",
    "    \n",
    "    mask_closed = cv2.morphologyEx(mask, cv2.MORPH_CLOSE, kernel)\n",
    "    \n",
    "    mask_clean = cv2.morphologyEx(mask_closed, cv2.MORPH_OPEN, kernel)\n",
    "    \n",
    "    \n",
    "    # Find the biggest strawberry\n",
    "    big_strawberry_contour, mask_strawberries = find_biggest_contour(mask_clean)\n",
    "    \n",
    "    # Overlay the masks that we created on the image\n",
    "    overlay = overlay_mask(mask_clean, image)\n",
    "    \n",
    "    # Circle the biggest strawberry\n",
    "    circled = circle_contour(overlay, big_strawberry_contour)\n",
    "    \n",
    "    show(circled)\n",
    "    \n",
    "    \n",
    "    # convert back to original color scheme\n",
    "    bgr = cv2.cvtColor(circled, cv2.COLOR_RGB2BGR)\n",
    "    \n",
    "    return bgr\n",
    "\n",
    "    "
   ]
  },
  {
   "cell_type": "code",
   "execution_count": 11,
   "metadata": {
    "collapsed": false
   },
   "outputs": [
    {
     "data": {
      "text/plain": [
       "True"
      ]
     },
     "execution_count": 11,
     "metadata": {},
     "output_type": "execute_result"
    }
   ],
   "source": [
    "# read the image \n",
    "image = cv2.imread('berry3.png')\n",
    "result = find_strawberry(image)\n",
    "\n",
    "# write the new image \n",
    "cv2.imwrite('found3.jpg', result)"
   ]
  }
 ],
 "metadata": {
  "anaconda-cloud": {},
  "kernelspec": {
   "display_name": "Python [conda env:tensorflow2.7]",
   "language": "python",
   "name": "conda-env-tensorflow2.7-py"
  },
  "language_info": {
   "codemirror_mode": {
    "name": "ipython",
    "version": 2
   },
   "file_extension": ".py",
   "mimetype": "text/x-python",
   "name": "python",
   "nbconvert_exporter": "python",
   "pygments_lexer": "ipython2",
   "version": "2.7.13"
  }
 },
 "nbformat": 4,
 "nbformat_minor": 1
}
